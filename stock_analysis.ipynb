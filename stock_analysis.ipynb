{
 "cells": [
  {
   "cell_type": "code",
   "execution_count": 2,
   "metadata": {},
   "outputs": [],
   "source": [
    "from pandas_datareader import data\n",
    "import datetime\n",
    "from bokeh.plotting import figure,show,output_file\n",
    "from bokeh.embed import components\n",
    "from bokeh.resources import CDN\n",
    "\n",
    "# -------------------------------------------------------\n",
    "\n",
    "start=datetime.datetime(2020,1,1)\n",
    "end=datetime.datetime(2020,7,2)\n",
    "df=data.DataReader(\"TSLA\",'yahoo',start,end)\n",
    "\n",
    "# --------------------------------------------------------\n",
    "\n",
    "# date_increased=df.index[df.Close>df.Open]\n",
    "# date_decreased=df.index[df.Close < df.Open]\n",
    "# print(abs(df.Close-df.Open))\n",
    "def inc_dec(c,o):\n",
    "    if c > o:\n",
    "        value=\"Increased\"\n",
    "    elif c == o:\n",
    "        value = \"Equal\"\n",
    "    else:\n",
    "        value = \"Decreased\"\n",
    "    return value\n",
    "\n",
    "df[\"Status\"]=[inc_dec(c,o) for c,o in zip(df.Close,df.Open)]\n",
    "df[\"Middle\"]=(df.Open+df.Close)/2\n",
    "df[\"Height\"]=abs(df.Open-df.Close)\n",
    "\n",
    "# -----------------------------------------------------------\n",
    "\n",
    "p=figure(x_axis_type='datetime',width=1000, height=400,sizing_mode='scale_width')\n",
    "p.title.text=\"Candelstick Chart for Tesla stocks\"\n",
    "\n",
    "hours_12=12*60*60*1000\n",
    "\n",
    "# p.rect(2,4,4,6)\n",
    "p.segment(df.index,df.High,df.index,df.Low,color=\"Black\")\n",
    "\n",
    "p.rect(df.index[df.Status==\"Increased\"],df.Middle[df.Status==\"Increased\"],\n",
    "       hours_12, df.Height[df.Status==\"Increased\"],fill_color=\"#60b8ff\",line_color=\"black\")\n",
    "\n",
    "p.rect(df.index[df.Status==\"Decreased\"],df.Middle[df.Status==\"Decreased\"],\n",
    "       hours_12, df.Height[df.Status==\"Decreased\"],fill_color=\"#ff2c49\",line_color=\"black\")\n",
    "\n",
    "script1,div1=components(p)\n",
    "cdn_js=CDN.js_files\n",
    "cdn_css=CDN.css_files\n",
    "\n",
    "# output_file(\"CS.html\")\n",
    "# show(p)"
   ]
  },
  {
   "cell_type": "code",
   "execution_count": 3,
   "metadata": {},
   "outputs": [
    {
     "output_type": "execute_result",
     "data": {
      "text/plain": "'https://cdn.bokeh.org/bokeh/release/bokeh-2.0.2.min.js'"
     },
     "metadata": {},
     "execution_count": 3
    }
   ],
   "source": [
    "cdn_js[0]"
   ]
  },
  {
   "cell_type": "code",
   "execution_count": null,
   "metadata": {},
   "outputs": [],
   "source": []
  },
  {
   "cell_type": "code",
   "execution_count": null,
   "metadata": {},
   "outputs": [],
   "source": []
  },
  {
   "cell_type": "code",
   "execution_count": null,
   "metadata": {},
   "outputs": [],
   "source": []
  }
 ],
 "metadata": {
  "kernelspec": {
   "display_name": "Python 3",
   "language": "python",
   "name": "python3"
  },
  "language_info": {
   "codemirror_mode": {
    "name": "ipython",
    "version": 3
   },
   "file_extension": ".py",
   "mimetype": "text/x-python",
   "name": "python",
   "nbconvert_exporter": "python",
   "pygments_lexer": "ipython3",
   "version": "3.8.3-final"
  }
 },
 "nbformat": 4,
 "nbformat_minor": 4
}